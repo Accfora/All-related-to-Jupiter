{
 "cells": [
  {
   "cell_type": "code",
   "execution_count": 1,
   "metadata": {},
   "outputs": [],
   "source": [
    "import pandas as pd\n",
    "import numpy as np"
   ]
  },
  {
   "cell_type": "code",
   "execution_count": 2,
   "metadata": {},
   "outputs": [],
   "source": [
    "df=pd.read_csv('data/adult.csv')"
   ]
  },
  {
   "cell_type": "code",
   "execution_count": 3,
   "metadata": {},
   "outputs": [
    {
     "data": {
      "text/html": [
       "<div>\n",
       "<style scoped>\n",
       "    .dataframe tbody tr th:only-of-type {\n",
       "        vertical-align: middle;\n",
       "    }\n",
       "\n",
       "    .dataframe tbody tr th {\n",
       "        vertical-align: top;\n",
       "    }\n",
       "\n",
       "    .dataframe thead th {\n",
       "        text-align: right;\n",
       "    }\n",
       "</style>\n",
       "<table border=\"1\" class=\"dataframe\">\n",
       "  <thead>\n",
       "    <tr style=\"text-align: right;\">\n",
       "      <th></th>\n",
       "      <th>age</th>\n",
       "      <th>workclass</th>\n",
       "      <th>fnlwgt</th>\n",
       "      <th>education</th>\n",
       "      <th>educational-num</th>\n",
       "      <th>marital-status</th>\n",
       "      <th>occupation</th>\n",
       "      <th>relationship</th>\n",
       "      <th>race</th>\n",
       "      <th>gender</th>\n",
       "      <th>capital-gain</th>\n",
       "      <th>capital-loss</th>\n",
       "      <th>hours-per-week</th>\n",
       "      <th>native-country</th>\n",
       "      <th>income</th>\n",
       "    </tr>\n",
       "  </thead>\n",
       "  <tbody>\n",
       "    <tr>\n",
       "      <th>0</th>\n",
       "      <td>25</td>\n",
       "      <td>Private</td>\n",
       "      <td>226802</td>\n",
       "      <td>11th</td>\n",
       "      <td>7</td>\n",
       "      <td>Never-married</td>\n",
       "      <td>Machine-op-inspct</td>\n",
       "      <td>Own-child</td>\n",
       "      <td>Black</td>\n",
       "      <td>Male</td>\n",
       "      <td>0</td>\n",
       "      <td>0</td>\n",
       "      <td>40</td>\n",
       "      <td>United-States</td>\n",
       "      <td>&lt;=50K</td>\n",
       "    </tr>\n",
       "    <tr>\n",
       "      <th>1</th>\n",
       "      <td>38</td>\n",
       "      <td>Private</td>\n",
       "      <td>89814</td>\n",
       "      <td>HS-grad</td>\n",
       "      <td>9</td>\n",
       "      <td>Married-civ-spouse</td>\n",
       "      <td>Farming-fishing</td>\n",
       "      <td>Husband</td>\n",
       "      <td>White</td>\n",
       "      <td>Male</td>\n",
       "      <td>0</td>\n",
       "      <td>0</td>\n",
       "      <td>50</td>\n",
       "      <td>United-States</td>\n",
       "      <td>&lt;=50K</td>\n",
       "    </tr>\n",
       "    <tr>\n",
       "      <th>2</th>\n",
       "      <td>28</td>\n",
       "      <td>Local-gov</td>\n",
       "      <td>336951</td>\n",
       "      <td>Assoc-acdm</td>\n",
       "      <td>12</td>\n",
       "      <td>Married-civ-spouse</td>\n",
       "      <td>Protective-serv</td>\n",
       "      <td>Husband</td>\n",
       "      <td>White</td>\n",
       "      <td>Male</td>\n",
       "      <td>0</td>\n",
       "      <td>0</td>\n",
       "      <td>40</td>\n",
       "      <td>United-States</td>\n",
       "      <td>&gt;50K</td>\n",
       "    </tr>\n",
       "    <tr>\n",
       "      <th>3</th>\n",
       "      <td>44</td>\n",
       "      <td>Private</td>\n",
       "      <td>160323</td>\n",
       "      <td>Some-college</td>\n",
       "      <td>10</td>\n",
       "      <td>Married-civ-spouse</td>\n",
       "      <td>Machine-op-inspct</td>\n",
       "      <td>Husband</td>\n",
       "      <td>Black</td>\n",
       "      <td>Male</td>\n",
       "      <td>7688</td>\n",
       "      <td>0</td>\n",
       "      <td>40</td>\n",
       "      <td>United-States</td>\n",
       "      <td>&gt;50K</td>\n",
       "    </tr>\n",
       "    <tr>\n",
       "      <th>4</th>\n",
       "      <td>18</td>\n",
       "      <td>?</td>\n",
       "      <td>103497</td>\n",
       "      <td>Some-college</td>\n",
       "      <td>10</td>\n",
       "      <td>Never-married</td>\n",
       "      <td>?</td>\n",
       "      <td>Own-child</td>\n",
       "      <td>White</td>\n",
       "      <td>Female</td>\n",
       "      <td>0</td>\n",
       "      <td>0</td>\n",
       "      <td>30</td>\n",
       "      <td>United-States</td>\n",
       "      <td>&lt;=50K</td>\n",
       "    </tr>\n",
       "  </tbody>\n",
       "</table>\n",
       "</div>"
      ],
      "text/plain": [
       "   age  workclass  fnlwgt     education  educational-num      marital-status  \\\n",
       "0   25    Private  226802          11th                7       Never-married   \n",
       "1   38    Private   89814       HS-grad                9  Married-civ-spouse   \n",
       "2   28  Local-gov  336951    Assoc-acdm               12  Married-civ-spouse   \n",
       "3   44    Private  160323  Some-college               10  Married-civ-spouse   \n",
       "4   18          ?  103497  Some-college               10       Never-married   \n",
       "\n",
       "          occupation relationship   race  gender  capital-gain  capital-loss  \\\n",
       "0  Machine-op-inspct    Own-child  Black    Male             0             0   \n",
       "1    Farming-fishing      Husband  White    Male             0             0   \n",
       "2    Protective-serv      Husband  White    Male             0             0   \n",
       "3  Machine-op-inspct      Husband  Black    Male          7688             0   \n",
       "4                  ?    Own-child  White  Female             0             0   \n",
       "\n",
       "   hours-per-week native-country income  \n",
       "0              40  United-States  <=50K  \n",
       "1              50  United-States  <=50K  \n",
       "2              40  United-States   >50K  \n",
       "3              40  United-States   >50K  \n",
       "4              30  United-States  <=50K  "
      ]
     },
     "execution_count": 3,
     "metadata": {},
     "output_type": "execute_result"
    }
   ],
   "source": [
    "df.head()"
   ]
  },
  {
   "cell_type": "code",
   "execution_count": 4,
   "metadata": {},
   "outputs": [
    {
     "data": {
      "text/plain": [
       "36    1348\n",
       "35    1337\n",
       "33    1335\n",
       "23    1329\n",
       "31    1325\n",
       "      ... \n",
       "88       6\n",
       "85       5\n",
       "87       3\n",
       "89       2\n",
       "86       1\n",
       "Name: age, Length: 74, dtype: int64"
      ]
     },
     "execution_count": 4,
     "metadata": {},
     "output_type": "execute_result"
    }
   ],
   "source": [
    "df['age'].value_counts()"
   ]
  },
  {
   "cell_type": "markdown",
   "metadata": {},
   "source": [
    "# 1.\tКаков средний возраст (признак age) женщин?"
   ]
  },
  {
   "cell_type": "code",
   "execution_count": 5,
   "metadata": {},
   "outputs": [
    {
     "data": {
      "text/plain": [
       "36.928"
      ]
     },
     "execution_count": 5,
     "metadata": {},
     "output_type": "execute_result"
    }
   ],
   "source": [
    "round(df[df['gender']=='Female']['age'].mean(),3)"
   ]
  },
  {
   "cell_type": "markdown",
   "metadata": {},
   "source": [
    "# 2.\tКаковы средние значения и среднеквадратичные отклонения возраста тех, кто получает более 50K в год (признак salary) и тех, кто получает менее 50K в год?"
   ]
  },
  {
   "cell_type": "code",
   "execution_count": 6,
   "metadata": {},
   "outputs": [
    {
     "data": {
      "text/html": [
       "<div>\n",
       "<style scoped>\n",
       "    .dataframe tbody tr th:only-of-type {\n",
       "        vertical-align: middle;\n",
       "    }\n",
       "\n",
       "    .dataframe tbody tr th {\n",
       "        vertical-align: top;\n",
       "    }\n",
       "\n",
       "    .dataframe thead th {\n",
       "        text-align: right;\n",
       "    }\n",
       "</style>\n",
       "<table border=\"1\" class=\"dataframe\">\n",
       "  <thead>\n",
       "    <tr style=\"text-align: right;\">\n",
       "      <th></th>\n",
       "      <th>mean</th>\n",
       "      <th>std</th>\n",
       "    </tr>\n",
       "    <tr>\n",
       "      <th>income</th>\n",
       "      <th></th>\n",
       "      <th></th>\n",
       "    </tr>\n",
       "  </thead>\n",
       "  <tbody>\n",
       "    <tr>\n",
       "      <th>&lt;=50K</th>\n",
       "      <td>36.872184</td>\n",
       "      <td>14.104118</td>\n",
       "    </tr>\n",
       "    <tr>\n",
       "      <th>&gt;50K</th>\n",
       "      <td>44.275178</td>\n",
       "      <td>10.558983</td>\n",
       "    </tr>\n",
       "  </tbody>\n",
       "</table>\n",
       "</div>"
      ],
      "text/plain": [
       "             mean        std\n",
       "income                      \n",
       "<=50K   36.872184  14.104118\n",
       ">50K    44.275178  10.558983"
      ]
     },
     "execution_count": 6,
     "metadata": {},
     "output_type": "execute_result"
    }
   ],
   "source": [
    "df.groupby(['income'])['age'].agg([np.mean, np.std])"
   ]
  },
  {
   "cell_type": "markdown",
   "metadata": {},
   "source": [
    "# 3.\tКаковы средние значения и среднеквадратичные отклонения возраста тех, кто получает более 50K в год (признак salary) и тех, кто получает менее 50K в год?"
   ]
  },
  {
   "cell_type": "code",
   "execution_count": 7,
   "metadata": {},
   "outputs": [
    {
     "data": {
      "text/plain": [
       "Male      32650\n",
       "Female    16192\n",
       "Name: gender, dtype: int64"
      ]
     },
     "execution_count": 7,
     "metadata": {},
     "output_type": "execute_result"
    }
   ],
   "source": [
    "df['gender'].value_counts()"
   ]
  },
  {
   "cell_type": "markdown",
   "metadata": {},
   "source": [
    "# 4.\tКакова доля граждан Германии (признак native-country)?"
   ]
  },
  {
   "cell_type": "code",
   "execution_count": 8,
   "metadata": {},
   "outputs": [
    {
     "data": {
      "text/plain": [
       "0.004"
      ]
     },
     "execution_count": 8,
     "metadata": {},
     "output_type": "execute_result"
    }
   ],
   "source": [
    "round(df['native-country'].value_counts(normalize=True)['Germany'],3)"
   ]
  },
  {
   "cell_type": "markdown",
   "metadata": {},
   "source": [
    "# Формирование сложных запросов"
   ]
  },
  {
   "cell_type": "markdown",
   "metadata": {},
   "source": [
    "# 1.\tПравда ли, что люди, которые получают больше 50k, имеют как минимум высшее образование? (признак education – Bachelors, Prof-school, Assoc-acdm, Assoc-voc, Masters или Doctorate)"
   ]
  },
  {
   "cell_type": "code",
   "execution_count": 13,
   "metadata": {},
   "outputs": [
    {
     "data": {
      "text/plain": [
       "income  education   \n",
       "<=50K   HS-grad         13281\n",
       "        Some-college     8815\n",
       "        Bachelors        4712\n",
       "        11th             1720\n",
       "        Assoc-voc        1539\n",
       "        10th             1302\n",
       "        Masters          1198\n",
       "        Assoc-acdm       1188\n",
       "        7th-8th           893\n",
       "        9th               715\n",
       "        12th              609\n",
       "        5th-6th           482\n",
       "        1st-4th           239\n",
       "        Prof-school       217\n",
       "        Doctorate         163\n",
       "        Preschool          82\n",
       ">50K    Bachelors        3313\n",
       "        HS-grad          2503\n",
       "        Some-college     2063\n",
       "        Masters          1459\n",
       "        Prof-school       617\n",
       "        Assoc-voc         522\n",
       "        Doctorate         431\n",
       "        Assoc-acdm        413\n",
       "        11th               92\n",
       "        10th               87\n",
       "        7th-8th            62\n",
       "        12th               48\n",
       "        9th                41\n",
       "        5th-6th            27\n",
       "        1st-4th             8\n",
       "        Preschool           1\n",
       "Name: education, dtype: int64"
      ]
     },
     "execution_count": 13,
     "metadata": {},
     "output_type": "execute_result"
    }
   ],
   "source": [
    "df.groupby(['income'])['education'].value_counts()"
   ]
  },
  {
   "cell_type": "code",
   "execution_count": 40,
   "metadata": {},
   "outputs": [
    {
     "data": {
      "text/html": [
       "<div>\n",
       "<style scoped>\n",
       "    .dataframe tbody tr th:only-of-type {\n",
       "        vertical-align: middle;\n",
       "    }\n",
       "\n",
       "    .dataframe tbody tr th {\n",
       "        vertical-align: top;\n",
       "    }\n",
       "\n",
       "    .dataframe thead th {\n",
       "        text-align: right;\n",
       "    }\n",
       "</style>\n",
       "<table border=\"1\" class=\"dataframe\">\n",
       "  <thead>\n",
       "    <tr style=\"text-align: right;\">\n",
       "      <th>education</th>\n",
       "      <th>10th</th>\n",
       "      <th>11th</th>\n",
       "      <th>12th</th>\n",
       "      <th>1st-4th</th>\n",
       "      <th>5th-6th</th>\n",
       "      <th>7th-8th</th>\n",
       "      <th>9th</th>\n",
       "      <th>Assoc-acdm</th>\n",
       "      <th>Assoc-voc</th>\n",
       "      <th>Bachelors</th>\n",
       "      <th>Doctorate</th>\n",
       "      <th>HS-grad</th>\n",
       "      <th>Masters</th>\n",
       "      <th>Preschool</th>\n",
       "      <th>Prof-school</th>\n",
       "      <th>Some-college</th>\n",
       "    </tr>\n",
       "    <tr>\n",
       "      <th>income</th>\n",
       "      <th></th>\n",
       "      <th></th>\n",
       "      <th></th>\n",
       "      <th></th>\n",
       "      <th></th>\n",
       "      <th></th>\n",
       "      <th></th>\n",
       "      <th></th>\n",
       "      <th></th>\n",
       "      <th></th>\n",
       "      <th></th>\n",
       "      <th></th>\n",
       "      <th></th>\n",
       "      <th></th>\n",
       "      <th></th>\n",
       "      <th></th>\n",
       "    </tr>\n",
       "  </thead>\n",
       "  <tbody>\n",
       "    <tr>\n",
       "      <th>&lt;=50K</th>\n",
       "      <td>1302</td>\n",
       "      <td>1720</td>\n",
       "      <td>609</td>\n",
       "      <td>239</td>\n",
       "      <td>482</td>\n",
       "      <td>893</td>\n",
       "      <td>715</td>\n",
       "      <td>1188</td>\n",
       "      <td>1539</td>\n",
       "      <td>4712</td>\n",
       "      <td>163</td>\n",
       "      <td>13281</td>\n",
       "      <td>1198</td>\n",
       "      <td>82</td>\n",
       "      <td>217</td>\n",
       "      <td>8815</td>\n",
       "    </tr>\n",
       "    <tr>\n",
       "      <th>&gt;50K</th>\n",
       "      <td>87</td>\n",
       "      <td>92</td>\n",
       "      <td>48</td>\n",
       "      <td>8</td>\n",
       "      <td>27</td>\n",
       "      <td>62</td>\n",
       "      <td>41</td>\n",
       "      <td>413</td>\n",
       "      <td>522</td>\n",
       "      <td>3313</td>\n",
       "      <td>431</td>\n",
       "      <td>2503</td>\n",
       "      <td>1459</td>\n",
       "      <td>1</td>\n",
       "      <td>617</td>\n",
       "      <td>2063</td>\n",
       "    </tr>\n",
       "  </tbody>\n",
       "</table>\n",
       "</div>"
      ],
      "text/plain": [
       "education  10th  11th  12th  1st-4th  5th-6th  7th-8th  9th  Assoc-acdm  \\\n",
       "income                                                                    \n",
       "<=50K      1302  1720   609      239      482      893  715        1188   \n",
       ">50K         87    92    48        8       27       62   41         413   \n",
       "\n",
       "education  Assoc-voc  Bachelors  Doctorate  HS-grad  Masters  Preschool  \\\n",
       "income                                                                    \n",
       "<=50K           1539       4712        163    13281     1198         82   \n",
       ">50K             522       3313        431     2503     1459          1   \n",
       "\n",
       "education  Prof-school  Some-college  \n",
       "income                                \n",
       "<=50K              217          8815  \n",
       ">50K               617          2063  "
      ]
     },
     "execution_count": 40,
     "metadata": {},
     "output_type": "execute_result"
    }
   ],
   "source": [
    "pd.crosstab(df['income'],df['education'])"
   ]
  },
  {
   "cell_type": "code",
   "execution_count": null,
   "metadata": {},
   "outputs": [],
   "source": [
    "неправда"
   ]
  },
  {
   "cell_type": "markdown",
   "metadata": {},
   "source": [
    "# 2.\tВыведите статистику возраста для каждой расы (признак race) и каждого пола. Используйте groupby и describe. Найдите таким образом максимальный возраст мужчин расы Amer-Indian-Eskimo."
   ]
  },
  {
   "cell_type": "code",
   "execution_count": 32,
   "metadata": {},
   "outputs": [
    {
     "data": {
      "text/plain": [
       "82"
      ]
     },
     "execution_count": 32,
     "metadata": {},
     "output_type": "execute_result"
    }
   ],
   "source": [
    "df.groupby(['race', 'gender'])['age'].max()['Amer-Indian-Eskimo']['Male']"
   ]
  },
  {
   "cell_type": "markdown",
   "metadata": {},
   "source": [
    "# 3.\tСреди кого больше доля зарабатывающих много (>50K): среди женатых или холостых мужчин (признак marital-status)? Женатыми считаем тех, у кого marital-status начинается с Married (Married-civ-spouse, Married-spouse-absent или Married-AF-spouse), остальных считаем холостыми."
   ]
  },
  {
   "cell_type": "code",
   "execution_count": 20,
   "metadata": {},
   "outputs": [
    {
     "data": {
      "text/plain": [
       "income  marital-status       \n",
       "<=50K   Never-married            0.414\n",
       "        Married-civ-spouse       0.334\n",
       "        Divorced                 0.160\n",
       "        Separated                0.039\n",
       "        Widowed                  0.037\n",
       "        Married-spouse-absent    0.015\n",
       "        Married-AF-spouse        0.001\n",
       ">50K    Married-civ-spouse       0.854\n",
       "        Never-married            0.063\n",
       "        Divorced                 0.057\n",
       "        Widowed                  0.011\n",
       "        Separated                0.008\n",
       "        Married-spouse-absent    0.005\n",
       "        Married-AF-spouse        0.001\n",
       "Name: marital-status, dtype: float64"
      ]
     },
     "execution_count": 20,
     "metadata": {},
     "output_type": "execute_result"
    }
   ],
   "source": [
    "round(df.groupby(['income'])['marital-status'].value_counts(normalize=True),3)"
   ]
  },
  {
   "cell_type": "code",
   "execution_count": 41,
   "metadata": {},
   "outputs": [
    {
     "data": {
      "text/plain": [
       "Married        0.860443\n",
       "Not married    0.139557\n",
       "Name: marital-status, dtype: float64"
      ]
     },
     "execution_count": 41,
     "metadata": {},
     "output_type": "execute_result"
    }
   ],
   "source": [
    "df[df['income']=='>50K']['marital-status'].apply(lambda x: 'Married' if x[:7]=='Married' else 'Not married').value_counts(normalize=True)"
   ]
  },
  {
   "cell_type": "markdown",
   "metadata": {},
   "source": [
    "среди женатых."
   ]
  },
  {
   "cell_type": "markdown",
   "metadata": {},
   "source": [
    "# 4.\tКакое максимальное число часов человек работает в неделю (признак hours-per-week)? Сколько людей работают такое количество часов и каков среди них процент зарабатывающих много?"
   ]
  },
  {
   "cell_type": "code",
   "execution_count": 21,
   "metadata": {},
   "outputs": [
    {
     "data": {
      "text/plain": [
       "99"
      ]
     },
     "execution_count": 21,
     "metadata": {},
     "output_type": "execute_result"
    }
   ],
   "source": [
    "df['hours-per-week'].max()"
   ]
  },
  {
   "cell_type": "code",
   "execution_count": 25,
   "metadata": {},
   "outputs": [
    {
     "data": {
      "text/plain": [
       "137"
      ]
     },
     "execution_count": 25,
     "metadata": {},
     "output_type": "execute_result"
    }
   ],
   "source": [
    "df[df['hours-per-week']==99].count()['hours-per-week']"
   ]
  },
  {
   "cell_type": "code",
   "execution_count": 39,
   "metadata": {},
   "outputs": [
    {
     "data": {
      "text/plain": [
       "hours-per-week  income\n",
       "1               <=50K     0.889\n",
       "                >50K      0.111\n",
       "2               <=50K     0.774\n",
       "                >50K      0.226\n",
       "3               <=50K     0.949\n",
       "                >50K      0.051\n",
       "4               <=50K     0.929\n",
       "                >50K      0.071\n",
       "5               <=50K     0.905\n",
       "                >50K      0.095\n",
       "6               <=50K     0.891\n",
       "                >50K      0.109\n",
       "7               <=50K     0.844\n",
       "                >50K      0.156\n",
       "8               <=50K     0.913\n",
       "                >50K      0.087\n",
       "9               <=50K     0.889\n",
       "                >50K      0.111\n",
       "10              <=50K     0.922\n",
       "                >50K      0.078\n",
       "11              <=50K     1.000\n",
       "12              <=50K     0.935\n",
       "                >50K      0.065\n",
       "13              <=50K     0.893\n",
       "                >50K      0.107\n",
       "14              <=50K     0.964\n",
       "                >50K      0.036\n",
       "15              <=50K     0.952\n",
       "                >50K      0.048\n",
       "16              <=50K     0.927\n",
       "                          ...  \n",
       "80              <=50K     0.605\n",
       "                >50K      0.395\n",
       "81              <=50K     1.000\n",
       "82              <=50K     1.000\n",
       "84              <=50K     0.653\n",
       "                >50K      0.347\n",
       "85              <=50K     0.647\n",
       "                >50K      0.353\n",
       "86              <=50K     0.500\n",
       "                >50K      0.500\n",
       "87              <=50K     1.000\n",
       "88              <=50K     1.000\n",
       "89              >50K      0.667\n",
       "                <=50K     0.333\n",
       "90              <=50K     0.595\n",
       "                >50K      0.405\n",
       "91              <=50K     1.000\n",
       "92              <=50K     0.667\n",
       "                >50K      0.333\n",
       "94              <=50K     1.000\n",
       "95              <=50K     0.500\n",
       "                >50K      0.500\n",
       "96              <=50K     0.889\n",
       "                >50K      0.111\n",
       "97              <=50K     0.500\n",
       "                >50K      0.500\n",
       "98              <=50K     0.786\n",
       "                >50K      0.214\n",
       "99              <=50K     0.701\n",
       "                >50K      0.299\n",
       "Name: income, Length: 181, dtype: float64"
      ]
     },
     "execution_count": 39,
     "metadata": {},
     "output_type": "execute_result"
    }
   ],
   "source": [
    "round(df.groupby(['hours-per-week'])['income'].value_counts(normalize=True), 3)"
   ]
  },
  {
   "cell_type": "markdown",
   "metadata": {},
   "source": [
    "0,299"
   ]
  },
  {
   "cell_type": "markdown",
   "metadata": {},
   "source": [
    "# 4.\tКакое максимальное число часов человек работает в неделю (признак hours-per-week)? Сколько людей работают такое количество часов и каков среди них процент зарабатывающих много?"
   ]
  },
  {
   "cell_type": "code",
   "execution_count": 24,
   "metadata": {},
   "outputs": [
    {
     "data": {
      "text/plain": [
       "native-country              income\n",
       "?                           <=50K     39.552590\n",
       "                            >50K      45.318182\n",
       "Cambodia                    <=50K     41.157895\n",
       "                            >50K      43.888889\n",
       "Canada                      <=50K     37.378151\n",
       "                            >50K      46.126984\n",
       "China                       <=50K     36.686047\n",
       "                            >50K      42.027778\n",
       "Columbia                    <=50K     39.123457\n",
       "                            >50K      56.250000\n",
       "Cuba                        <=50K     39.201923\n",
       "                            >50K      42.852941\n",
       "Dominican-Republic          <=50K     41.561224\n",
       "                            >50K      42.800000\n",
       "Ecuador                     <=50K     37.948718\n",
       "                            >50K      47.833333\n",
       "El-Salvador                 <=50K     35.819444\n",
       "                            >50K      43.454545\n",
       "England                     <=50K     39.375000\n",
       "                            >50K      46.297872\n",
       "France                      <=50K     40.090909\n",
       "                            >50K      46.500000\n",
       "Germany                     <=50K     38.898649\n",
       "                            >50K      45.706897\n",
       "Greece                      <=50K     41.870968\n",
       "                            >50K      55.555556\n",
       "Guatemala                   <=50K     38.788235\n",
       "                            >50K      36.666667\n",
       "Haiti                       <=50K     36.409091\n",
       "                            >50K      40.666667\n",
       "                                        ...    \n",
       "Nicaragua                   <=50K     36.847826\n",
       "                            >50K      38.333333\n",
       "Outlying-US(Guam-USVI-etc)  <=50K     41.409091\n",
       "                            >50K      40.000000\n",
       "Peru                        <=50K     36.214286\n",
       "                            >50K      40.000000\n",
       "Philippines                 <=50K     38.014286\n",
       "                            >50K      43.588235\n",
       "Poland                      <=50K     37.228571\n",
       "                            >50K      39.588235\n",
       "Portugal                    <=50K     41.254545\n",
       "                            >50K      46.750000\n",
       "Puerto-Rico                 <=50K     38.908537\n",
       "                            >50K      39.900000\n",
       "Scotland                    <=50K     40.833333\n",
       "                            >50K      46.666667\n",
       "South                       <=50K     41.052632\n",
       "                            >50K      51.400000\n",
       "Taiwan                      <=50K     35.307692\n",
       "                            >50K      45.538462\n",
       "Thailand                    <=50K     43.040000\n",
       "                            >50K      53.000000\n",
       "Trinadad&Tobago             <=50K     38.800000\n",
       "                            >50K      40.000000\n",
       "United-States               <=50K     38.817189\n",
       "                            >50K      45.471853\n",
       "Vietnam                     <=50K     37.848101\n",
       "                            >50K      39.428571\n",
       "Yugoslavia                  <=50K     38.533333\n",
       "                            >50K      43.375000\n",
       "Name: hours-per-week, Length: 83, dtype: float64"
      ]
     },
     "execution_count": 24,
     "metadata": {},
     "output_type": "execute_result"
    }
   ],
   "source": [
    "df.groupby(['native-country', 'income'])['hours-per-week'].mean()"
   ]
  },
  {
   "cell_type": "code",
   "execution_count": null,
   "metadata": {},
   "outputs": [],
   "source": [
    "лооооооооооооолооооололололололвооооовооооововововововововововововоовввввввв вовововововововововововововововововововововововововововововововововововововововововововововововововововововововововововововововововововововововововововововововововововововововововововововововововововововововововововововововововововововововововововововововововововововово"
   ]
  },
  {
   "cell_type": "code",
   "execution_count": null,
   "metadata": {},
   "outputs": [],
   "source": []
  }
 ],
 "metadata": {
  "kernelspec": {
   "display_name": "Python 3",
   "language": "python",
   "name": "python3"
  },
  "language_info": {
   "codemirror_mode": {
    "name": "ipython",
    "version": 3
   },
   "file_extension": ".py",
   "mimetype": "text/x-python",
   "name": "python",
   "nbconvert_exporter": "python",
   "pygments_lexer": "ipython3",
   "version": "3.8.8"
  }
 },
 "nbformat": 4,
 "nbformat_minor": 2
}
